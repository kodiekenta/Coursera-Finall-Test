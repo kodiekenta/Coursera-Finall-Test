{
 "cells": [
  {
   "cell_type": "markdown",
   "metadata": {},
   "source": [
    "# The neighbourhoods in Frederiction, New Brunswick, Canada\n"
   ]
  },
  {
   "cell_type": "code",
   "execution_count": 37,
   "metadata": {},
   "outputs": [],
   "source": [
    "#Import Libraries\n",
    "import pandas as pd\n",
    "import numpy as np\n",
    "import matplotlib.pyplot as plt\n",
    "import seaborn as sns\n",
    "from sklearn import preprocessing\n",
    "import requests"
   ]
  },
  {
   "cell_type": "code",
   "execution_count": 39,
   "metadata": {},
   "outputs": [
    {
     "data": {
      "text/html": [
       "<div>\n",
       "<style scoped>\n",
       "    .dataframe tbody tr th:only-of-type {\n",
       "        vertical-align: middle;\n",
       "    }\n",
       "\n",
       "    .dataframe tbody tr th {\n",
       "        vertical-align: top;\n",
       "    }\n",
       "\n",
       "    .dataframe thead th {\n",
       "        text-align: right;\n",
       "    }\n",
       "</style>\n",
       "<table border=\"1\" class=\"dataframe\">\n",
       "  <thead>\n",
       "    <tr style=\"text-align: right;\">\n",
       "      <th></th>\n",
       "      <th>Neighbourhood</th>\n",
       "      <th>From_Date</th>\n",
       "      <th>To_Date</th>\n",
       "      <th>Crime_Code</th>\n",
       "      <th>Crime_Type</th>\n",
       "      <th>Ward</th>\n",
       "      <th>City</th>\n",
       "      <th>FID</th>\n",
       "    </tr>\n",
       "  </thead>\n",
       "  <tbody>\n",
       "    <tr>\n",
       "      <th>0</th>\n",
       "      <td>Fredericton South</td>\n",
       "      <td>2017/01/05 00:00:00+00</td>\n",
       "      <td>2017/01/26 00:00:00+00</td>\n",
       "      <td>2120</td>\n",
       "      <td>B&amp;E NON-RESIDNCE</td>\n",
       "      <td>7</td>\n",
       "      <td>Fredericton</td>\n",
       "      <td>1</td>\n",
       "    </tr>\n",
       "    <tr>\n",
       "      <th>1</th>\n",
       "      <td>Fredericton South</td>\n",
       "      <td>2017/03/04 00:00:00+00</td>\n",
       "      <td>2017/03/06 00:00:00+00</td>\n",
       "      <td>2120</td>\n",
       "      <td>B&amp;E NON-RESIDNCE</td>\n",
       "      <td>7</td>\n",
       "      <td>Fredericton</td>\n",
       "      <td>2</td>\n",
       "    </tr>\n",
       "    <tr>\n",
       "      <th>2</th>\n",
       "      <td>Fredericton South</td>\n",
       "      <td>2017/05/07 00:00:00+00</td>\n",
       "      <td>1970/01/01 00:00:00+00</td>\n",
       "      <td>2120</td>\n",
       "      <td>B&amp;E NON-RESIDNCE</td>\n",
       "      <td>12</td>\n",
       "      <td>Fredericton</td>\n",
       "      <td>3</td>\n",
       "    </tr>\n",
       "    <tr>\n",
       "      <th>3</th>\n",
       "      <td>Fredericton South</td>\n",
       "      <td>2017/06/20 00:00:00+00</td>\n",
       "      <td>2017/06/21 00:00:00+00</td>\n",
       "      <td>2120</td>\n",
       "      <td>B&amp;E NON-RESIDNCE</td>\n",
       "      <td>12</td>\n",
       "      <td>Fredericton</td>\n",
       "      <td>4</td>\n",
       "    </tr>\n",
       "    <tr>\n",
       "      <th>4</th>\n",
       "      <td>Fredericton South</td>\n",
       "      <td>2017/07/09 00:00:00+00</td>\n",
       "      <td>2017/07/10 00:00:00+00</td>\n",
       "      <td>2120</td>\n",
       "      <td>B&amp;E NON-RESIDNCE</td>\n",
       "      <td>7</td>\n",
       "      <td>Fredericton</td>\n",
       "      <td>5</td>\n",
       "    </tr>\n",
       "  </tbody>\n",
       "</table>\n",
       "</div>"
      ],
      "text/plain": [
       "       Neighbourhood               From_Date                 To_Date  \\\n",
       "0  Fredericton South  2017/01/05 00:00:00+00  2017/01/26 00:00:00+00   \n",
       "1  Fredericton South  2017/03/04 00:00:00+00  2017/03/06 00:00:00+00   \n",
       "2  Fredericton South  2017/05/07 00:00:00+00  1970/01/01 00:00:00+00   \n",
       "3  Fredericton South  2017/06/20 00:00:00+00  2017/06/21 00:00:00+00   \n",
       "4  Fredericton South  2017/07/09 00:00:00+00  2017/07/10 00:00:00+00   \n",
       "\n",
       "   Crime_Code        Crime_Type  Ward         City  FID  \n",
       "0        2120  B&E NON-RESIDNCE     7  Fredericton    1  \n",
       "1        2120  B&E NON-RESIDNCE     7  Fredericton    2  \n",
       "2        2120  B&E NON-RESIDNCE    12  Fredericton    3  \n",
       "3        2120  B&E NON-RESIDNCE    12  Fredericton    4  \n",
       "4        2120  B&E NON-RESIDNCE     7  Fredericton    5  "
      ]
     },
     "execution_count": 39,
     "metadata": {},
     "output_type": "execute_result"
    }
   ],
   "source": [
    "df= pd.read_csv('Crime_by_neighbourhood_2017___Crime_par_quartier_2017.csv')\n",
    "df.head()"
   ]
  },
  {
   "cell_type": "code",
   "execution_count": 40,
   "metadata": {},
   "outputs": [
    {
     "name": "stdout",
     "output_type": "stream",
     "text": [
      "<class 'pandas.core.frame.DataFrame'>\n",
      "RangeIndex: 1460 entries, 0 to 1459\n",
      "Data columns (total 8 columns):\n",
      " #   Column         Non-Null Count  Dtype \n",
      "---  ------         --------------  ----- \n",
      " 0   Neighbourhood  1460 non-null   object\n",
      " 1   From_Date      1460 non-null   object\n",
      " 2   To_Date        1460 non-null   object\n",
      " 3   Crime_Code     1460 non-null   int64 \n",
      " 4   Crime_Type     1460 non-null   object\n",
      " 5   Ward           1460 non-null   int64 \n",
      " 6   City           1460 non-null   object\n",
      " 7   FID            1460 non-null   int64 \n",
      "dtypes: int64(3), object(5)\n",
      "memory usage: 91.4+ KB\n"
     ]
    }
   ],
   "source": [
    "# 2 columns will be removed because the data is not datetime bound.\n",
    "df.info()"
   ]
  },
  {
   "cell_type": "code",
   "execution_count": 42,
   "metadata": {},
   "outputs": [],
   "source": [
    "df.drop([\"From_Date\",\"To_Date\"], axis = 1, inplace = True)"
   ]
  },
  {
   "cell_type": "code",
   "execution_count": 43,
   "metadata": {},
   "outputs": [
    {
     "data": {
      "text/html": [
       "<div>\n",
       "<style scoped>\n",
       "    .dataframe tbody tr th:only-of-type {\n",
       "        vertical-align: middle;\n",
       "    }\n",
       "\n",
       "    .dataframe tbody tr th {\n",
       "        vertical-align: top;\n",
       "    }\n",
       "\n",
       "    .dataframe thead th {\n",
       "        text-align: right;\n",
       "    }\n",
       "</style>\n",
       "<table border=\"1\" class=\"dataframe\">\n",
       "  <thead>\n",
       "    <tr style=\"text-align: right;\">\n",
       "      <th></th>\n",
       "      <th>Neighbourhood</th>\n",
       "      <th>Crime_Code</th>\n",
       "      <th>Crime_Type</th>\n",
       "      <th>Ward</th>\n",
       "      <th>City</th>\n",
       "      <th>FID</th>\n",
       "    </tr>\n",
       "  </thead>\n",
       "  <tbody>\n",
       "    <tr>\n",
       "      <th>0</th>\n",
       "      <td>Fredericton South</td>\n",
       "      <td>2120</td>\n",
       "      <td>B&amp;E NON-RESIDNCE</td>\n",
       "      <td>7</td>\n",
       "      <td>Fredericton</td>\n",
       "      <td>1</td>\n",
       "    </tr>\n",
       "    <tr>\n",
       "      <th>1</th>\n",
       "      <td>Fredericton South</td>\n",
       "      <td>2120</td>\n",
       "      <td>B&amp;E NON-RESIDNCE</td>\n",
       "      <td>7</td>\n",
       "      <td>Fredericton</td>\n",
       "      <td>2</td>\n",
       "    </tr>\n",
       "    <tr>\n",
       "      <th>2</th>\n",
       "      <td>Fredericton South</td>\n",
       "      <td>2120</td>\n",
       "      <td>B&amp;E NON-RESIDNCE</td>\n",
       "      <td>12</td>\n",
       "      <td>Fredericton</td>\n",
       "      <td>3</td>\n",
       "    </tr>\n",
       "    <tr>\n",
       "      <th>3</th>\n",
       "      <td>Fredericton South</td>\n",
       "      <td>2120</td>\n",
       "      <td>B&amp;E NON-RESIDNCE</td>\n",
       "      <td>12</td>\n",
       "      <td>Fredericton</td>\n",
       "      <td>4</td>\n",
       "    </tr>\n",
       "    <tr>\n",
       "      <th>4</th>\n",
       "      <td>Fredericton South</td>\n",
       "      <td>2120</td>\n",
       "      <td>B&amp;E NON-RESIDNCE</td>\n",
       "      <td>7</td>\n",
       "      <td>Fredericton</td>\n",
       "      <td>5</td>\n",
       "    </tr>\n",
       "  </tbody>\n",
       "</table>\n",
       "</div>"
      ],
      "text/plain": [
       "       Neighbourhood  Crime_Code        Crime_Type  Ward         City  FID\n",
       "0  Fredericton South        2120  B&E NON-RESIDNCE     7  Fredericton    1\n",
       "1  Fredericton South        2120  B&E NON-RESIDNCE     7  Fredericton    2\n",
       "2  Fredericton South        2120  B&E NON-RESIDNCE    12  Fredericton    3\n",
       "3  Fredericton South        2120  B&E NON-RESIDNCE    12  Fredericton    4\n",
       "4  Fredericton South        2120  B&E NON-RESIDNCE     7  Fredericton    5"
      ]
     },
     "execution_count": 43,
     "metadata": {},
     "output_type": "execute_result"
    }
   ],
   "source": [
    "df.head()"
   ]
  },
  {
   "cell_type": "markdown",
   "metadata": {},
   "source": [
    "# Quick Analysis on the neighbourhoods with the most crime¶\n"
   ]
  },
  {
   "cell_type": "markdown",
   "metadata": {},
   "source": [
    "1) What are the different crime types and how many are they? 2) How many wards are in the city? 3) How many Neighbourhoods are in the city?"
   ]
  },
  {
   "cell_type": "code",
   "execution_count": 45,
   "metadata": {},
   "outputs": [
    {
     "data": {
      "text/plain": [
       "array(['B&E NON-RESIDNCE', 'MISCHIEF TO PROP', 'THEFT BIKE<$5000',\n",
       "       'THEFT FROM MV < $5000', 'THEFT FROM MV > $5000',\n",
       "       'THEFT OTH <$5000', 'ARSON BY NEG', 'B&E OTHER', 'B&E RESIDENCE',\n",
       "       'MOTOR VEH THEFT', 'ARSON-DAM.PROP.', 'B&E STEAL FIREAR',\n",
       "       'THEFT OTH >$5000', 'ARSON', 'MISCHIEF-DATA', 'MISCHIEF OBS USE',\n",
       "       'THEFT OVER $5000', 'THEFT,BIKE>$5000', ' '], dtype=object)"
      ]
     },
     "execution_count": 45,
     "metadata": {},
     "output_type": "execute_result"
    }
   ],
   "source": [
    "#1\n",
    "df[\"Crime_Type\"].unique()\n",
    "#From here we can notice that there is a blank cell so we will have to see why it is blank"
   ]
  },
  {
   "cell_type": "code",
   "execution_count": 46,
   "metadata": {},
   "outputs": [
    {
     "data": {
      "text/plain": [
       "19"
      ]
     },
     "execution_count": 46,
     "metadata": {},
     "output_type": "execute_result"
    }
   ],
   "source": [
    "#1b)\n",
    "df[\"Crime_Type\"].nunique()"
   ]
  },
  {
   "cell_type": "code",
   "execution_count": 47,
   "metadata": {},
   "outputs": [
    {
     "data": {
      "text/html": [
       "<div>\n",
       "<style scoped>\n",
       "    .dataframe tbody tr th:only-of-type {\n",
       "        vertical-align: middle;\n",
       "    }\n",
       "\n",
       "    .dataframe tbody tr th {\n",
       "        vertical-align: top;\n",
       "    }\n",
       "\n",
       "    .dataframe thead th {\n",
       "        text-align: right;\n",
       "    }\n",
       "</style>\n",
       "<table border=\"1\" class=\"dataframe\">\n",
       "  <thead>\n",
       "    <tr style=\"text-align: right;\">\n",
       "      <th></th>\n",
       "      <th>Neighbourhood</th>\n",
       "      <th>Crime_Code</th>\n",
       "      <th>Crime_Type</th>\n",
       "      <th>Ward</th>\n",
       "      <th>City</th>\n",
       "      <th>FID</th>\n",
       "    </tr>\n",
       "  </thead>\n",
       "  <tbody>\n",
       "    <tr>\n",
       "      <th>993</th>\n",
       "      <td>Knowledge Park</td>\n",
       "      <td>0</td>\n",
       "      <td></td>\n",
       "      <td>0</td>\n",
       "      <td></td>\n",
       "      <td>994</td>\n",
       "    </tr>\n",
       "    <tr>\n",
       "      <th>999</th>\n",
       "      <td>Grasse Circle</td>\n",
       "      <td>0</td>\n",
       "      <td></td>\n",
       "      <td>0</td>\n",
       "      <td></td>\n",
       "      <td>1000</td>\n",
       "    </tr>\n",
       "    <tr>\n",
       "      <th>1134</th>\n",
       "      <td>Fredericton South</td>\n",
       "      <td>0</td>\n",
       "      <td></td>\n",
       "      <td>0</td>\n",
       "      <td></td>\n",
       "      <td>1135</td>\n",
       "    </tr>\n",
       "    <tr>\n",
       "      <th>1449</th>\n",
       "      <td>Wesbett / Case</td>\n",
       "      <td>0</td>\n",
       "      <td></td>\n",
       "      <td>0</td>\n",
       "      <td></td>\n",
       "      <td>1450</td>\n",
       "    </tr>\n",
       "  </tbody>\n",
       "</table>\n",
       "</div>"
      ],
      "text/plain": [
       "          Neighbourhood  Crime_Code Crime_Type  Ward City   FID\n",
       "993      Knowledge Park           0                0        994\n",
       "999       Grasse Circle           0                0       1000\n",
       "1134  Fredericton South           0                0       1135\n",
       "1449     Wesbett / Case           0                0       1450"
      ]
     },
     "execution_count": 47,
     "metadata": {},
     "output_type": "execute_result"
    }
   ],
   "source": [
    "df[df[\"Crime_Type\"] == ' ']\n",
    "#So these 4 neighbourhoods do not have any crime rates. Naturally the should be dropped but they will be used as a litmus test"
   ]
  },
  {
   "cell_type": "code",
   "execution_count": 49,
   "metadata": {},
   "outputs": [
    {
     "data": {
      "text/plain": [
       "13"
      ]
     },
     "execution_count": 49,
     "metadata": {},
     "output_type": "execute_result"
    }
   ],
   "source": [
    "#2) There are 13 Wards \n",
    "df.Ward.nunique()"
   ]
  },
  {
   "cell_type": "code",
   "execution_count": 51,
   "metadata": {},
   "outputs": [
    {
     "data": {
      "text/plain": [
       "66"
      ]
     },
     "execution_count": 51,
     "metadata": {},
     "output_type": "execute_result"
    }
   ],
   "source": [
    "#3) How many Neighbourhoods are in the city? Answer is 66.\n",
    "df.Neighbourhood.nunique()"
   ]
  },
  {
   "cell_type": "code",
   "execution_count": 52,
   "metadata": {},
   "outputs": [
    {
     "data": {
      "text/plain": [
       "Neighbourhood\n",
       "Barkers Point               47\n",
       "Brookside                   54\n",
       "Brookside Estates            9\n",
       "Brookside Mini Home Park     5\n",
       "College Hill                41\n",
       "                            ..\n",
       "Wesbett / Case               1\n",
       "West Hills                   5\n",
       "Williams / Hawkins Area     17\n",
       "Woodstock Road              41\n",
       "Youngs Crossing             16\n",
       "Name: Crime_Type, Length: 66, dtype: int64"
      ]
     },
     "execution_count": 52,
     "metadata": {},
     "output_type": "execute_result"
    }
   ],
   "source": [
    "CN = df.groupby(\"Neighbourhood\").count()[\"Crime_Type\"]\n",
    "CN"
   ]
  },
  {
   "cell_type": "code",
   "execution_count": 53,
   "metadata": {},
   "outputs": [
    {
     "data": {
      "text/html": [
       "<div>\n",
       "<style scoped>\n",
       "    .dataframe tbody tr th:only-of-type {\n",
       "        vertical-align: middle;\n",
       "    }\n",
       "\n",
       "    .dataframe tbody tr th {\n",
       "        vertical-align: top;\n",
       "    }\n",
       "\n",
       "    .dataframe thead th {\n",
       "        text-align: right;\n",
       "    }\n",
       "</style>\n",
       "<table border=\"1\" class=\"dataframe\">\n",
       "  <thead>\n",
       "    <tr style=\"text-align: right;\">\n",
       "      <th></th>\n",
       "      <th>Crime_Type</th>\n",
       "    </tr>\n",
       "    <tr>\n",
       "      <th>Neighbourhood</th>\n",
       "      <th></th>\n",
       "    </tr>\n",
       "  </thead>\n",
       "  <tbody>\n",
       "    <tr>\n",
       "      <th>Barkers Point</th>\n",
       "      <td>47</td>\n",
       "    </tr>\n",
       "    <tr>\n",
       "      <th>Brookside</th>\n",
       "      <td>54</td>\n",
       "    </tr>\n",
       "    <tr>\n",
       "      <th>Brookside Estates</th>\n",
       "      <td>9</td>\n",
       "    </tr>\n",
       "    <tr>\n",
       "      <th>Brookside Mini Home Park</th>\n",
       "      <td>5</td>\n",
       "    </tr>\n",
       "    <tr>\n",
       "      <th>College Hill</th>\n",
       "      <td>41</td>\n",
       "    </tr>\n",
       "  </tbody>\n",
       "</table>\n",
       "</div>"
      ],
      "text/plain": [
       "                          Crime_Type\n",
       "Neighbourhood                       \n",
       "Barkers Point                     47\n",
       "Brookside                         54\n",
       "Brookside Estates                  9\n",
       "Brookside Mini Home Park           5\n",
       "College Hill                      41"
      ]
     },
     "execution_count": 53,
     "metadata": {},
     "output_type": "execute_result"
    }
   ],
   "source": [
    "CND = pd.DataFrame(CN)\n",
    "CND.head()"
   ]
  },
  {
   "cell_type": "code",
   "execution_count": 54,
   "metadata": {},
   "outputs": [],
   "source": [
    "CND.reset_index(inplace = True)"
   ]
  },
  {
   "cell_type": "code",
   "execution_count": 55,
   "metadata": {},
   "outputs": [],
   "source": [
    "CND.columns = [\"Neighbourhood\",\"Frequency\"]"
   ]
  },
  {
   "cell_type": "code",
   "execution_count": 56,
   "metadata": {},
   "outputs": [
    {
     "data": {
      "text/html": [
       "<div>\n",
       "<style scoped>\n",
       "    .dataframe tbody tr th:only-of-type {\n",
       "        vertical-align: middle;\n",
       "    }\n",
       "\n",
       "    .dataframe tbody tr th {\n",
       "        vertical-align: top;\n",
       "    }\n",
       "\n",
       "    .dataframe thead th {\n",
       "        text-align: right;\n",
       "    }\n",
       "</style>\n",
       "<table border=\"1\" class=\"dataframe\">\n",
       "  <thead>\n",
       "    <tr style=\"text-align: right;\">\n",
       "      <th></th>\n",
       "      <th>Neighbourhood</th>\n",
       "      <th>Frequency</th>\n",
       "    </tr>\n",
       "  </thead>\n",
       "  <tbody>\n",
       "    <tr>\n",
       "      <th>40</th>\n",
       "      <td>Platt</td>\n",
       "      <td>198</td>\n",
       "    </tr>\n",
       "    <tr>\n",
       "      <th>10</th>\n",
       "      <td>Downtown</td>\n",
       "      <td>127</td>\n",
       "    </tr>\n",
       "    <tr>\n",
       "      <th>38</th>\n",
       "      <td>North Devon</td>\n",
       "      <td>113</td>\n",
       "    </tr>\n",
       "    <tr>\n",
       "      <th>13</th>\n",
       "      <td>Fredericton South</td>\n",
       "      <td>85</td>\n",
       "    </tr>\n",
       "    <tr>\n",
       "      <th>42</th>\n",
       "      <td>Prospect</td>\n",
       "      <td>81</td>\n",
       "    </tr>\n",
       "  </tbody>\n",
       "</table>\n",
       "</div>"
      ],
      "text/plain": [
       "        Neighbourhood  Frequency\n",
       "40              Platt        198\n",
       "10           Downtown        127\n",
       "38        North Devon        113\n",
       "13  Fredericton South         85\n",
       "42           Prospect         81"
      ]
     },
     "execution_count": 56,
     "metadata": {},
     "output_type": "execute_result"
    }
   ],
   "source": [
    "CND.nlargest(5,\"Frequency\")"
   ]
  },
  {
   "cell_type": "code",
   "execution_count": 57,
   "metadata": {},
   "outputs": [
    {
     "data": {
      "image/png": "[encoded data removed]",
      "text/plain": [
       "<Figure size 720x360 with 1 Axes>"
      ]
     },
     "metadata": {
      "needs_background": "light"
     },
     "output_type": "display_data"
    }
   ],
   "source": [
    "#The top 5 Neighbourhoods by crime frequency i.e the target market\n",
    "plt.figure(figsize = (10,5))\n",
    "Chart = sns.lineplot(x = \"Neighbourhood\", y = \"Frequency\", data = CND.nlargest(5,\"Frequency\"))"
   ]
  },
  {
   "cell_type": "code",
   "execution_count": 58,
   "metadata": {},
   "outputs": [
    {
     "data": {
      "text/html": [
       "<div>\n",
       "<style scoped>\n",
       "    .dataframe tbody tr th:only-of-type {\n",
       "        vertical-align: middle;\n",
       "    }\n",
       "\n",
       "    .dataframe tbody tr th {\n",
       "        vertical-align: top;\n",
       "    }\n",
       "\n",
       "    .dataframe thead th {\n",
       "        text-align: right;\n",
       "    }\n",
       "</style>\n",
       "<table border=\"1\" class=\"dataframe\">\n",
       "  <thead>\n",
       "    <tr style=\"text-align: right;\">\n",
       "      <th></th>\n",
       "      <th>Frequency</th>\n",
       "    </tr>\n",
       "  </thead>\n",
       "  <tbody>\n",
       "    <tr>\n",
       "      <th>count</th>\n",
       "      <td>66.000000</td>\n",
       "    </tr>\n",
       "    <tr>\n",
       "      <th>mean</th>\n",
       "      <td>22.121212</td>\n",
       "    </tr>\n",
       "    <tr>\n",
       "      <th>std</th>\n",
       "      <td>34.879359</td>\n",
       "    </tr>\n",
       "    <tr>\n",
       "      <th>min</th>\n",
       "      <td>1.000000</td>\n",
       "    </tr>\n",
       "    <tr>\n",
       "      <th>25%</th>\n",
       "      <td>3.000000</td>\n",
       "    </tr>\n",
       "    <tr>\n",
       "      <th>50%</th>\n",
       "      <td>9.000000</td>\n",
       "    </tr>\n",
       "    <tr>\n",
       "      <th>75%</th>\n",
       "      <td>23.250000</td>\n",
       "    </tr>\n",
       "    <tr>\n",
       "      <th>max</th>\n",
       "      <td>198.000000</td>\n",
       "    </tr>\n",
       "  </tbody>\n",
       "</table>\n",
       "</div>"
      ],
      "text/plain": [
       "        Frequency\n",
       "count   66.000000\n",
       "mean    22.121212\n",
       "std     34.879359\n",
       "min      1.000000\n",
       "25%      3.000000\n",
       "50%      9.000000\n",
       "75%     23.250000\n",
       "max    198.000000"
      ]
     },
     "execution_count": 58,
     "metadata": {},
     "output_type": "execute_result"
    }
   ],
   "source": [
    "CND.describe()"
   ]
  },
  {
   "cell_type": "code",
   "execution_count": 60,
   "metadata": {},
   "outputs": [],
   "source": [
    "CT = df.groupby(\"Crime_Type\").size()"
   ]
  },
  {
   "cell_type": "code",
   "execution_count": 62,
   "metadata": {},
   "outputs": [],
   "source": [
    "CTD = pd.DataFrame(CT)\n",
    "CTD.reset_index(inplace = True)"
   ]
  },
  {
   "cell_type": "code",
   "execution_count": 63,
   "metadata": {},
   "outputs": [],
   "source": [
    "CTD.columns = [\"Crime\", \"Frequency\"]"
   ]
  },
  {
   "cell_type": "code",
   "execution_count": 64,
   "metadata": {},
   "outputs": [
    {
     "data": {
      "text/html": [
       "<div>\n",
       "<style scoped>\n",
       "    .dataframe tbody tr th:only-of-type {\n",
       "        vertical-align: middle;\n",
       "    }\n",
       "\n",
       "    .dataframe tbody tr th {\n",
       "        vertical-align: top;\n",
       "    }\n",
       "\n",
       "    .dataframe thead th {\n",
       "        text-align: right;\n",
       "    }\n",
       "</style>\n",
       "<table border=\"1\" class=\"dataframe\">\n",
       "  <thead>\n",
       "    <tr style=\"text-align: right;\">\n",
       "      <th></th>\n",
       "      <th>Crime</th>\n",
       "      <th>Frequency</th>\n",
       "    </tr>\n",
       "  </thead>\n",
       "  <tbody>\n",
       "    <tr>\n",
       "      <th>15</th>\n",
       "      <td>THEFT OTH &lt;$5000</td>\n",
       "      <td>458</td>\n",
       "    </tr>\n",
       "    <tr>\n",
       "      <th>13</th>\n",
       "      <td>THEFT FROM MV &lt; $5000</td>\n",
       "      <td>356</td>\n",
       "    </tr>\n",
       "    <tr>\n",
       "      <th>9</th>\n",
       "      <td>MISCHIEF TO PROP</td>\n",
       "      <td>246</td>\n",
       "    </tr>\n",
       "    <tr>\n",
       "      <th>6</th>\n",
       "      <td>B&amp;E RESIDENCE</td>\n",
       "      <td>151</td>\n",
       "    </tr>\n",
       "    <tr>\n",
       "      <th>12</th>\n",
       "      <td>THEFT BIKE&lt;$5000</td>\n",
       "      <td>63</td>\n",
       "    </tr>\n",
       "    <tr>\n",
       "      <th>5</th>\n",
       "      <td>B&amp;E OTHER</td>\n",
       "      <td>58</td>\n",
       "    </tr>\n",
       "    <tr>\n",
       "      <th>4</th>\n",
       "      <td>B&amp;E NON-RESIDNCE</td>\n",
       "      <td>51</td>\n",
       "    </tr>\n",
       "    <tr>\n",
       "      <th>11</th>\n",
       "      <td>MOTOR VEH THEFT</td>\n",
       "      <td>40</td>\n",
       "    </tr>\n",
       "    <tr>\n",
       "      <th>16</th>\n",
       "      <td>THEFT OTH &gt;$5000</td>\n",
       "      <td>9</td>\n",
       "    </tr>\n",
       "    <tr>\n",
       "      <th>14</th>\n",
       "      <td>THEFT FROM MV &gt; $5000</td>\n",
       "      <td>5</td>\n",
       "    </tr>\n",
       "    <tr>\n",
       "      <th>1</th>\n",
       "      <td>ARSON</td>\n",
       "      <td>5</td>\n",
       "    </tr>\n",
       "    <tr>\n",
       "      <th>0</th>\n",
       "      <td></td>\n",
       "      <td>4</td>\n",
       "    </tr>\n",
       "    <tr>\n",
       "      <th>3</th>\n",
       "      <td>ARSON-DAM.PROP.</td>\n",
       "      <td>4</td>\n",
       "    </tr>\n",
       "    <tr>\n",
       "      <th>7</th>\n",
       "      <td>B&amp;E STEAL FIREAR</td>\n",
       "      <td>3</td>\n",
       "    </tr>\n",
       "    <tr>\n",
       "      <th>10</th>\n",
       "      <td>MISCHIEF-DATA</td>\n",
       "      <td>2</td>\n",
       "    </tr>\n",
       "    <tr>\n",
       "      <th>18</th>\n",
       "      <td>THEFT,BIKE&gt;$5000</td>\n",
       "      <td>2</td>\n",
       "    </tr>\n",
       "    <tr>\n",
       "      <th>8</th>\n",
       "      <td>MISCHIEF OBS USE</td>\n",
       "      <td>1</td>\n",
       "    </tr>\n",
       "    <tr>\n",
       "      <th>2</th>\n",
       "      <td>ARSON BY NEG</td>\n",
       "      <td>1</td>\n",
       "    </tr>\n",
       "    <tr>\n",
       "      <th>17</th>\n",
       "      <td>THEFT OVER $5000</td>\n",
       "      <td>1</td>\n",
       "    </tr>\n",
       "  </tbody>\n",
       "</table>\n",
       "</div>"
      ],
      "text/plain": [
       "                    Crime  Frequency\n",
       "15       THEFT OTH <$5000        458\n",
       "13  THEFT FROM MV < $5000        356\n",
       "9        MISCHIEF TO PROP        246\n",
       "6           B&E RESIDENCE        151\n",
       "12       THEFT BIKE<$5000         63\n",
       "5               B&E OTHER         58\n",
       "4        B&E NON-RESIDNCE         51\n",
       "11        MOTOR VEH THEFT         40\n",
       "16       THEFT OTH >$5000          9\n",
       "14  THEFT FROM MV > $5000          5\n",
       "1                   ARSON          5\n",
       "0                                  4\n",
       "3         ARSON-DAM.PROP.          4\n",
       "7        B&E STEAL FIREAR          3\n",
       "10          MISCHIEF-DATA          2\n",
       "18       THEFT,BIKE>$5000          2\n",
       "8        MISCHIEF OBS USE          1\n",
       "2            ARSON BY NEG          1\n",
       "17       THEFT OVER $5000          1"
      ]
     },
     "execution_count": 64,
     "metadata": {},
     "output_type": "execute_result"
    }
   ],
   "source": [
    "# It is clear that the most common type of crime in Ferediction is theft less than $5,000 \n",
    "CTD.sort_values(\"Frequency\", ascending = False)"
   ]
  },
  {
   "cell_type": "code",
   "execution_count": 65,
   "metadata": {},
   "outputs": [
    {
     "data": {
      "image/png": "[encoded data removed]",
      "text/plain": [
       "<Figure size 720x360 with 1 Axes>"
      ]
     },
     "metadata": {
      "needs_background": "light"
     },
     "output_type": "display_data"
    }
   ],
   "source": [
    "plt.figure(figsize = (10,5))\n",
    "Chart = sns.lineplot(x = \"Crime\", y = \"Frequency\", data = CTD.nlargest(5,\"Frequency\"))"
   ]
  },
  {
   "cell_type": "code",
   "execution_count": 66,
   "metadata": {},
   "outputs": [],
   "source": [
    "# we have the top 5 crimes and top 5 neighbourhoods, let's see the top crimes in these neighbourhoods"
   ]
  },
  {
   "cell_type": "code",
   "execution_count": 67,
   "metadata": {},
   "outputs": [],
   "source": [
    "Top_5 = CND.nlargest(5,\"Frequency\").Neighbourhood.unique()"
   ]
  },
  {
   "cell_type": "code",
   "execution_count": 69,
   "metadata": {},
   "outputs": [],
   "source": [
    "Top_5 = ['Platt', 'Downtown', 'North Devon', 'Fredericton South',\n",
    "       'Prospect']"
   ]
  },
  {
   "cell_type": "code",
   "execution_count": 70,
   "metadata": {},
   "outputs": [],
   "source": [
    "#Create a Dataframe for the top 5 Neighbourhoods\n",
    "Top_5DF = df[df[\"Neighbourhood\"].isin(Top_5)]"
   ]
  },
  {
   "cell_type": "code",
   "execution_count": 71,
   "metadata": {},
   "outputs": [
    {
     "data": {
      "text/html": [
       "<div>\n",
       "<style scoped>\n",
       "    .dataframe tbody tr th:only-of-type {\n",
       "        vertical-align: middle;\n",
       "    }\n",
       "\n",
       "    .dataframe tbody tr th {\n",
       "        vertical-align: top;\n",
       "    }\n",
       "\n",
       "    .dataframe thead th {\n",
       "        text-align: right;\n",
       "    }\n",
       "</style>\n",
       "<table border=\"1\" class=\"dataframe\">\n",
       "  <thead>\n",
       "    <tr style=\"text-align: right;\">\n",
       "      <th></th>\n",
       "      <th>Neighbourhood</th>\n",
       "      <th>Crime_Code</th>\n",
       "      <th>Crime_Type</th>\n",
       "      <th>Ward</th>\n",
       "      <th>City</th>\n",
       "      <th>FID</th>\n",
       "    </tr>\n",
       "  </thead>\n",
       "  <tbody>\n",
       "    <tr>\n",
       "      <th>0</th>\n",
       "      <td>Fredericton South</td>\n",
       "      <td>2120</td>\n",
       "      <td>B&amp;E NON-RESIDNCE</td>\n",
       "      <td>7</td>\n",
       "      <td>Fredericton</td>\n",
       "      <td>1</td>\n",
       "    </tr>\n",
       "    <tr>\n",
       "      <th>1</th>\n",
       "      <td>Fredericton South</td>\n",
       "      <td>2120</td>\n",
       "      <td>B&amp;E NON-RESIDNCE</td>\n",
       "      <td>7</td>\n",
       "      <td>Fredericton</td>\n",
       "      <td>2</td>\n",
       "    </tr>\n",
       "    <tr>\n",
       "      <th>2</th>\n",
       "      <td>Fredericton South</td>\n",
       "      <td>2120</td>\n",
       "      <td>B&amp;E NON-RESIDNCE</td>\n",
       "      <td>12</td>\n",
       "      <td>Fredericton</td>\n",
       "      <td>3</td>\n",
       "    </tr>\n",
       "    <tr>\n",
       "      <th>3</th>\n",
       "      <td>Fredericton South</td>\n",
       "      <td>2120</td>\n",
       "      <td>B&amp;E NON-RESIDNCE</td>\n",
       "      <td>12</td>\n",
       "      <td>Fredericton</td>\n",
       "      <td>4</td>\n",
       "    </tr>\n",
       "    <tr>\n",
       "      <th>4</th>\n",
       "      <td>Fredericton South</td>\n",
       "      <td>2120</td>\n",
       "      <td>B&amp;E NON-RESIDNCE</td>\n",
       "      <td>7</td>\n",
       "      <td>Fredericton</td>\n",
       "      <td>5</td>\n",
       "    </tr>\n",
       "  </tbody>\n",
       "</table>\n",
       "</div>"
      ],
      "text/plain": [
       "       Neighbourhood  Crime_Code        Crime_Type  Ward         City  FID\n",
       "0  Fredericton South        2120  B&E NON-RESIDNCE     7  Fredericton    1\n",
       "1  Fredericton South        2120  B&E NON-RESIDNCE     7  Fredericton    2\n",
       "2  Fredericton South        2120  B&E NON-RESIDNCE    12  Fredericton    3\n",
       "3  Fredericton South        2120  B&E NON-RESIDNCE    12  Fredericton    4\n",
       "4  Fredericton South        2120  B&E NON-RESIDNCE     7  Fredericton    5"
      ]
     },
     "execution_count": 71,
     "metadata": {},
     "output_type": "execute_result"
    }
   ],
   "source": [
    "Top_5DF.head()"
   ]
  },
  {
   "cell_type": "code",
   "execution_count": 72,
   "metadata": {},
   "outputs": [],
   "source": [
    "df1 = Top_5DF.groupby([\"Neighbourhood\",\"Crime_Type\"]).size()"
   ]
  },
  {
   "cell_type": "code",
   "execution_count": 75,
   "metadata": {},
   "outputs": [],
   "source": [
    "df1 = pd.DataFrame(df1)"
   ]
  },
  {
   "cell_type": "code",
   "execution_count": 76,
   "metadata": {},
   "outputs": [],
   "source": [
    "df1.reset_index(inplace = True)"
   ]
  },
  {
   "cell_type": "code",
   "execution_count": 77,
   "metadata": {},
   "outputs": [
    {
     "data": {
      "text/html": [
       "<div>\n",
       "<style scoped>\n",
       "    .dataframe tbody tr th:only-of-type {\n",
       "        vertical-align: middle;\n",
       "    }\n",
       "\n",
       "    .dataframe tbody tr th {\n",
       "        vertical-align: top;\n",
       "    }\n",
       "\n",
       "    .dataframe thead th {\n",
       "        text-align: right;\n",
       "    }\n",
       "</style>\n",
       "<table border=\"1\" class=\"dataframe\">\n",
       "  <thead>\n",
       "    <tr style=\"text-align: right;\">\n",
       "      <th></th>\n",
       "      <th>Neighbourhood</th>\n",
       "      <th>Crime_Type</th>\n",
       "      <th>0</th>\n",
       "    </tr>\n",
       "  </thead>\n",
       "  <tbody>\n",
       "    <tr>\n",
       "      <th>0</th>\n",
       "      <td>Downtown</td>\n",
       "      <td>ARSON</td>\n",
       "      <td>1</td>\n",
       "    </tr>\n",
       "    <tr>\n",
       "      <th>1</th>\n",
       "      <td>Downtown</td>\n",
       "      <td>ARSON-DAM.PROP.</td>\n",
       "      <td>1</td>\n",
       "    </tr>\n",
       "    <tr>\n",
       "      <th>2</th>\n",
       "      <td>Downtown</td>\n",
       "      <td>B&amp;E NON-RESIDNCE</td>\n",
       "      <td>7</td>\n",
       "    </tr>\n",
       "    <tr>\n",
       "      <th>3</th>\n",
       "      <td>Downtown</td>\n",
       "      <td>B&amp;E RESIDENCE</td>\n",
       "      <td>3</td>\n",
       "    </tr>\n",
       "    <tr>\n",
       "      <th>4</th>\n",
       "      <td>Downtown</td>\n",
       "      <td>MISCHIEF TO PROP</td>\n",
       "      <td>29</td>\n",
       "    </tr>\n",
       "  </tbody>\n",
       "</table>\n",
       "</div>"
      ],
      "text/plain": [
       "  Neighbourhood        Crime_Type   0\n",
       "0      Downtown             ARSON   1\n",
       "1      Downtown   ARSON-DAM.PROP.   1\n",
       "2      Downtown  B&E NON-RESIDNCE   7\n",
       "3      Downtown     B&E RESIDENCE   3\n",
       "4      Downtown  MISCHIEF TO PROP  29"
      ]
     },
     "execution_count": 77,
     "metadata": {},
     "output_type": "execute_result"
    }
   ],
   "source": [
    "df1.head()"
   ]
  },
  {
   "cell_type": "code",
   "execution_count": 79,
   "metadata": {},
   "outputs": [],
   "source": [
    "df1.columns = [\"Neighbourhood\",\"Crime\",\"Frequency\"]"
   ]
  },
  {
   "cell_type": "code",
   "execution_count": 80,
   "metadata": {},
   "outputs": [
    {
     "data": {
      "text/html": [
       "<div>\n",
       "<style scoped>\n",
       "    .dataframe tbody tr th:only-of-type {\n",
       "        vertical-align: middle;\n",
       "    }\n",
       "\n",
       "    .dataframe tbody tr th {\n",
       "        vertical-align: top;\n",
       "    }\n",
       "\n",
       "    .dataframe thead th {\n",
       "        text-align: right;\n",
       "    }\n",
       "</style>\n",
       "<table border=\"1\" class=\"dataframe\">\n",
       "  <thead>\n",
       "    <tr style=\"text-align: right;\">\n",
       "      <th></th>\n",
       "      <th>Neighbourhood</th>\n",
       "      <th>Crime</th>\n",
       "      <th>Frequency</th>\n",
       "    </tr>\n",
       "  </thead>\n",
       "  <tbody>\n",
       "    <tr>\n",
       "      <th>0</th>\n",
       "      <td>Downtown</td>\n",
       "      <td>ARSON</td>\n",
       "      <td>1</td>\n",
       "    </tr>\n",
       "    <tr>\n",
       "      <th>1</th>\n",
       "      <td>Downtown</td>\n",
       "      <td>ARSON-DAM.PROP.</td>\n",
       "      <td>1</td>\n",
       "    </tr>\n",
       "    <tr>\n",
       "      <th>2</th>\n",
       "      <td>Downtown</td>\n",
       "      <td>B&amp;E NON-RESIDNCE</td>\n",
       "      <td>7</td>\n",
       "    </tr>\n",
       "    <tr>\n",
       "      <th>3</th>\n",
       "      <td>Downtown</td>\n",
       "      <td>B&amp;E RESIDENCE</td>\n",
       "      <td>3</td>\n",
       "    </tr>\n",
       "    <tr>\n",
       "      <th>4</th>\n",
       "      <td>Downtown</td>\n",
       "      <td>MISCHIEF TO PROP</td>\n",
       "      <td>29</td>\n",
       "    </tr>\n",
       "  </tbody>\n",
       "</table>\n",
       "</div>"
      ],
      "text/plain": [
       "  Neighbourhood             Crime  Frequency\n",
       "0      Downtown             ARSON          1\n",
       "1      Downtown   ARSON-DAM.PROP.          1\n",
       "2      Downtown  B&E NON-RESIDNCE          7\n",
       "3      Downtown     B&E RESIDENCE          3\n",
       "4      Downtown  MISCHIEF TO PROP         29"
      ]
     },
     "execution_count": 80,
     "metadata": {},
     "output_type": "execute_result"
    }
   ],
   "source": [
    "df1.head()"
   ]
  },
  {
   "cell_type": "code",
   "execution_count": 81,
   "metadata": {},
   "outputs": [
    {
     "data": {
      "text/plain": [
       "<matplotlib.axes._subplots.AxesSubplot at 0x2232de7ce20>"
      ]
     },
     "execution_count": 81,
     "metadata": {},
     "output_type": "execute_result"
    },
    {
     "data": {
      "image/png": "[encoded data removed]",
      "text/plain": [
       "<Figure size 1440x720 with 1 Axes>"
      ]
     },
     "metadata": {
      "needs_background": "light"
     },
     "output_type": "display_data"
    }
   ],
   "source": [
    "plt.figure(figsize = (20,10))\n",
    "sns.barplot(x = 'Neighbourhood', y = \"Frequency\", data = df1, hue = \"Crime\")"
   ]
  },
  {
   "cell_type": "markdown",
   "metadata": {},
   "source": [
    "# North Devon Neighbourhood is the best place for us to start advertising our home alarm soundsystem while Platt is for our wearables division"
   ]
  },
  {
   "cell_type": "code",
   "execution_count": 82,
   "metadata": {},
   "outputs": [],
   "source": [
    "from sklearn.cluster import KMeans"
   ]
  },
  {
   "cell_type": "code",
   "execution_count": 83,
   "metadata": {},
   "outputs": [
    {
     "data": {
      "text/html": [
       "<div>\n",
       "<style scoped>\n",
       "    .dataframe tbody tr th:only-of-type {\n",
       "        vertical-align: middle;\n",
       "    }\n",
       "\n",
       "    .dataframe tbody tr th {\n",
       "        vertical-align: top;\n",
       "    }\n",
       "\n",
       "    .dataframe thead th {\n",
       "        text-align: right;\n",
       "    }\n",
       "</style>\n",
       "<table border=\"1\" class=\"dataframe\">\n",
       "  <thead>\n",
       "    <tr style=\"text-align: right;\">\n",
       "      <th></th>\n",
       "      <th>Neighbourhood</th>\n",
       "      <th>Crime</th>\n",
       "      <th>Frequency</th>\n",
       "    </tr>\n",
       "  </thead>\n",
       "  <tbody>\n",
       "    <tr>\n",
       "      <th>0</th>\n",
       "      <td>Downtown</td>\n",
       "      <td>ARSON</td>\n",
       "      <td>1</td>\n",
       "    </tr>\n",
       "    <tr>\n",
       "      <th>1</th>\n",
       "      <td>Downtown</td>\n",
       "      <td>ARSON-DAM.PROP.</td>\n",
       "      <td>1</td>\n",
       "    </tr>\n",
       "    <tr>\n",
       "      <th>2</th>\n",
       "      <td>Downtown</td>\n",
       "      <td>B&amp;E NON-RESIDNCE</td>\n",
       "      <td>7</td>\n",
       "    </tr>\n",
       "    <tr>\n",
       "      <th>3</th>\n",
       "      <td>Downtown</td>\n",
       "      <td>B&amp;E RESIDENCE</td>\n",
       "      <td>3</td>\n",
       "    </tr>\n",
       "    <tr>\n",
       "      <th>4</th>\n",
       "      <td>Downtown</td>\n",
       "      <td>MISCHIEF TO PROP</td>\n",
       "      <td>29</td>\n",
       "    </tr>\n",
       "  </tbody>\n",
       "</table>\n",
       "</div>"
      ],
      "text/plain": [
       "  Neighbourhood             Crime  Frequency\n",
       "0      Downtown             ARSON          1\n",
       "1      Downtown   ARSON-DAM.PROP.          1\n",
       "2      Downtown  B&E NON-RESIDNCE          7\n",
       "3      Downtown     B&E RESIDENCE          3\n",
       "4      Downtown  MISCHIEF TO PROP         29"
      ]
     },
     "execution_count": 83,
     "metadata": {},
     "output_type": "execute_result"
    }
   ],
   "source": [
    "df1.head()"
   ]
  },
  {
   "cell_type": "markdown",
   "metadata": {},
   "source": [
    "# Now we have to segment the various neighbourhoods into categories to identify which Neighbourhoods have similar features that may have been missed"
   ]
  },
  {
   "cell_type": "code",
   "execution_count": 84,
   "metadata": {},
   "outputs": [
    {
     "data": {
      "text/plain": [
       "array([1, 1, 1, 1, 0, 1, 1, 1, 0, 2])"
      ]
     },
     "execution_count": 84,
     "metadata": {},
     "output_type": "execute_result"
    }
   ],
   "source": [
    "kclusters = 3\n",
    "\n",
    "CrimeClusters = df1.drop(['Neighbourhood',\"Crime\"], axis = 1)\n",
    "\n",
    "# run k-means clustering\n",
    "kmeans = KMeans(n_clusters=kclusters, random_state=0).fit(CrimeClusters)\n",
    "\n",
    "# check cluster labels generated for each row in the dataframe\n",
    "kmeans.labels_[0:10]"
   ]
  },
  {
   "cell_type": "code",
   "execution_count": 85,
   "metadata": {},
   "outputs": [],
   "source": [
    "df1.insert(0, 'ClusterLabels', kmeans.labels_)"
   ]
  },
  {
   "cell_type": "code",
   "execution_count": 86,
   "metadata": {},
   "outputs": [
    {
     "data": {
      "text/plain": [
       "<matplotlib.axes._subplots.AxesSubplot at 0x2232ee6e4f0>"
      ]
     },
     "execution_count": 86,
     "metadata": {},
     "output_type": "execute_result"
    },
    {
     "data": {
      "image/png": "[encoded data removed]",
      "text/plain": [
       "<Figure size 432x288 with 1 Axes>"
      ]
     },
     "metadata": {
      "needs_background": "light"
     },
     "output_type": "display_data"
    }
   ],
   "source": [
    "sns.scatterplot(x = \"Neighbourhood\", y = \"ClusterLabels\", data = df1)"
   ]
  },
  {
   "cell_type": "code",
   "execution_count": 87,
   "metadata": {},
   "outputs": [
    {
     "data": {
      "text/html": [
       "<div>\n",
       "<style scoped>\n",
       "    .dataframe tbody tr th:only-of-type {\n",
       "        vertical-align: middle;\n",
       "    }\n",
       "\n",
       "    .dataframe tbody tr th {\n",
       "        vertical-align: top;\n",
       "    }\n",
       "\n",
       "    .dataframe thead th {\n",
       "        text-align: right;\n",
       "    }\n",
       "</style>\n",
       "<table border=\"1\" class=\"dataframe\">\n",
       "  <thead>\n",
       "    <tr style=\"text-align: right;\">\n",
       "      <th></th>\n",
       "      <th>Frequency</th>\n",
       "    </tr>\n",
       "    <tr>\n",
       "      <th>ClusterLabels</th>\n",
       "      <th></th>\n",
       "    </tr>\n",
       "  </thead>\n",
       "  <tbody>\n",
       "    <tr>\n",
       "      <th>0</th>\n",
       "      <td>23.800000</td>\n",
       "    </tr>\n",
       "    <tr>\n",
       "      <th>1</th>\n",
       "      <td>3.806452</td>\n",
       "    </tr>\n",
       "    <tr>\n",
       "      <th>2</th>\n",
       "      <td>49.600000</td>\n",
       "    </tr>\n",
       "  </tbody>\n",
       "</table>\n",
       "</div>"
      ],
      "text/plain": [
       "               Frequency\n",
       "ClusterLabels           \n",
       "0              23.800000\n",
       "1               3.806452\n",
       "2              49.600000"
      ]
     },
     "execution_count": 87,
     "metadata": {},
     "output_type": "execute_result"
    }
   ],
   "source": [
    "df1.groupby('ClusterLabels').mean()"
   ]
  },
  {
   "cell_type": "markdown",
   "metadata": {},
   "source": [
    "# the top 5 neighbourhoods have very similar features for their crime rates hence we can focus on anyone as a fertile market."
   ]
  },
  {
   "cell_type": "code",
   "execution_count": null,
   "metadata": {},
   "outputs": [],
   "source": []
  }
 ],
 "metadata": {
  "kernelspec": {
   "display_name": "Python 3",
   "language": "python",
   "name": "python3"
  },
  "language_info": {
   "codemirror_mode": {
    "name": "ipython",
    "version": 3
   },
   "file_extension": ".py",
   "mimetype": "text/x-python",
   "name": "python",
   "nbconvert_exporter": "python",
   "pygments_lexer": "ipython3",
   "version": "3.8.3"
  }
 },
 "nbformat": 4,
 "nbformat_minor": 4
}
